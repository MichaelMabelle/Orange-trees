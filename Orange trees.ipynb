{
 "cells": [
  {
   "cell_type": "markdown",
   "id": "565cb695",
   "metadata": {},
   "source": [
    "#  Orange trees "
   ]
  },
  {
   "cell_type": "code",
   "execution_count": 1,
   "id": "dc559c14",
   "metadata": {},
   "outputs": [
    {
     "ename": "NameError",
     "evalue": "name 'qsdflkjqsmldfkjqmslkdf' is not defined",
     "output_type": "error",
     "traceback": [
      "\u001b[0;31m---------------------------------------------------------------------------\u001b[0m",
      "\u001b[0;31mNameError\u001b[0m                                 Traceback (most recent call last)",
      "\u001b[0;32m/var/folders/f3/snz6bk753fsbsgl738r3m17c0000gn/T/ipykernel_48910/710763877.py\u001b[0m in \u001b[0;36m<module>\u001b[0;34m\u001b[0m\n\u001b[0;32m----> 1\u001b[0;31m \u001b[0mqsdflkjqsmldfkjqmslkdf\u001b[0m\u001b[0;34m\u001b[0m\u001b[0;34m\u001b[0m\u001b[0m\n\u001b[0m",
      "\u001b[0;31mNameError\u001b[0m: name 'qsdflkjqsmldfkjqmslkdf' is not defined"
     ]
    }
   ],
   "source": [
    "qsdflkjqsmldfkjqmslkdf"
   ]
  },
  {
   "cell_type": "code",
   "execution_count": 2,
   "id": "4b893e2b",
   "metadata": {},
   "outputs": [
    {
     "ename": "NameError",
     "evalue": "name 'klsdjfmlqskdfjlmkqsdf' is not defined",
     "output_type": "error",
     "traceback": [
      "\u001b[0;31m---------------------------------------------------------------------------\u001b[0m",
      "\u001b[0;31mNameError\u001b[0m                                 Traceback (most recent call last)",
      "\u001b[0;32m/var/folders/f3/snz6bk753fsbsgl738r3m17c0000gn/T/ipykernel_48910/2896664813.py\u001b[0m in \u001b[0;36m<module>\u001b[0;34m\u001b[0m\n\u001b[0;32m----> 1\u001b[0;31m \u001b[0mklsdjfmlqskdfjlmkqsdf\u001b[0m\u001b[0;34m\u001b[0m\u001b[0;34m\u001b[0m\u001b[0m\n\u001b[0m",
      "\u001b[0;31mNameError\u001b[0m: name 'klsdjfmlqskdfjlmkqsdf' is not defined"
     ]
    }
   ],
   "source": [
    "klsdjfmlqskdfjlmkqsdf"
   ]
  },
  {
   "cell_type": "code",
   "execution_count": null,
   "id": "c29064a5",
   "metadata": {},
   "outputs": [],
   "source": [
    "je fais un essai agiain"
   ]
  }
 ],
 "metadata": {
  "kernelspec": {
   "display_name": "Python 3 (ipykernel)",
   "language": "python",
   "name": "python3"
  },
  "language_info": {
   "codemirror_mode": {
    "name": "ipython",
    "version": 3
   },
   "file_extension": ".py",
   "mimetype": "text/x-python",
   "name": "python",
   "nbconvert_exporter": "python",
   "pygments_lexer": "ipython3",
   "version": "3.9.7"
  }
 },
 "nbformat": 4,
 "nbformat_minor": 5
}
